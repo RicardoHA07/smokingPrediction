{
 "cells": [
  {
   "cell_type": "markdown",
   "id": "c0303bb8-ad59-48b0-9ba2-5feec22ec1a3",
   "metadata": {},
   "source": [
    "# Framingham Heart Study para predecir fumadores"
   ]
  },
  {
   "cell_type": "code",
   "execution_count": 1,
   "id": "6ca9badd-0613-4b79-a166-a9f6b6b47c1f",
   "metadata": {},
   "outputs": [],
   "source": [
    "#Para esta tarea utilizaremos el dataset de https://www.geeksforgeeks.org/ml-heart-disease-prediction-using-logistic-regression/ (framingham.csv)\n",
    "#El data set contiene varios datos clinicos y ha sido utilizado para predecir si el paciente tiene un riesgo de enfermedad cardiovascular en los prox. 10 años.\n",
    "#Contiene 15 variables clinicas por paciente y una variable TenYearCHD, que es el objetivo que dice si si se encontró riesgo de enfermedad al corazón.\n",
    "#En lugar de predecir TenYearCHD, usamos currentSmoker donde 1 es fumador, 0 no fuma\n",
    "#male,age,education,currentSmoker,cigsPerDay,BPMeds,prevalentStroke,prevalentHyp,diabetes,totChol,sysBP,diaBP,BMI,heartRate,glucose,\n",
    "\n",
    "\n"
   ]
  },
  {
   "cell_type": "code",
   "execution_count": 2,
   "id": "5bb2c559-55bb-46ea-8ae1-4046c96cab76",
   "metadata": {},
   "outputs": [
    {
     "data": {
      "text/html": [
       "<div>\n",
       "<style scoped>\n",
       "    .dataframe tbody tr th:only-of-type {\n",
       "        vertical-align: middle;\n",
       "    }\n",
       "\n",
       "    .dataframe tbody tr th {\n",
       "        vertical-align: top;\n",
       "    }\n",
       "\n",
       "    .dataframe thead th {\n",
       "        text-align: right;\n",
       "    }\n",
       "</style>\n",
       "<table border=\"1\" class=\"dataframe\">\n",
       "  <thead>\n",
       "    <tr style=\"text-align: right;\">\n",
       "      <th></th>\n",
       "      <th>male</th>\n",
       "      <th>age</th>\n",
       "      <th>education</th>\n",
       "      <th>currentSmoker</th>\n",
       "      <th>cigsPerDay</th>\n",
       "      <th>BPMeds</th>\n",
       "      <th>prevalentStroke</th>\n",
       "      <th>prevalentHyp</th>\n",
       "      <th>diabetes</th>\n",
       "      <th>totChol</th>\n",
       "      <th>sysBP</th>\n",
       "      <th>diaBP</th>\n",
       "      <th>BMI</th>\n",
       "      <th>heartRate</th>\n",
       "      <th>glucose</th>\n",
       "      <th>TenYearCHD</th>\n",
       "    </tr>\n",
       "  </thead>\n",
       "  <tbody>\n",
       "    <tr>\n",
       "      <th>0</th>\n",
       "      <td>1</td>\n",
       "      <td>39</td>\n",
       "      <td>4.0</td>\n",
       "      <td>0</td>\n",
       "      <td>0.0</td>\n",
       "      <td>0.0</td>\n",
       "      <td>0</td>\n",
       "      <td>0</td>\n",
       "      <td>0</td>\n",
       "      <td>195.0</td>\n",
       "      <td>106.0</td>\n",
       "      <td>70.0</td>\n",
       "      <td>26.97</td>\n",
       "      <td>80.0</td>\n",
       "      <td>77.0</td>\n",
       "      <td>0</td>\n",
       "    </tr>\n",
       "    <tr>\n",
       "      <th>1</th>\n",
       "      <td>0</td>\n",
       "      <td>46</td>\n",
       "      <td>2.0</td>\n",
       "      <td>0</td>\n",
       "      <td>0.0</td>\n",
       "      <td>0.0</td>\n",
       "      <td>0</td>\n",
       "      <td>0</td>\n",
       "      <td>0</td>\n",
       "      <td>250.0</td>\n",
       "      <td>121.0</td>\n",
       "      <td>81.0</td>\n",
       "      <td>28.73</td>\n",
       "      <td>95.0</td>\n",
       "      <td>76.0</td>\n",
       "      <td>0</td>\n",
       "    </tr>\n",
       "    <tr>\n",
       "      <th>2</th>\n",
       "      <td>1</td>\n",
       "      <td>48</td>\n",
       "      <td>1.0</td>\n",
       "      <td>1</td>\n",
       "      <td>20.0</td>\n",
       "      <td>0.0</td>\n",
       "      <td>0</td>\n",
       "      <td>0</td>\n",
       "      <td>0</td>\n",
       "      <td>245.0</td>\n",
       "      <td>127.5</td>\n",
       "      <td>80.0</td>\n",
       "      <td>25.34</td>\n",
       "      <td>75.0</td>\n",
       "      <td>70.0</td>\n",
       "      <td>0</td>\n",
       "    </tr>\n",
       "    <tr>\n",
       "      <th>3</th>\n",
       "      <td>0</td>\n",
       "      <td>61</td>\n",
       "      <td>3.0</td>\n",
       "      <td>1</td>\n",
       "      <td>30.0</td>\n",
       "      <td>0.0</td>\n",
       "      <td>0</td>\n",
       "      <td>1</td>\n",
       "      <td>0</td>\n",
       "      <td>225.0</td>\n",
       "      <td>150.0</td>\n",
       "      <td>95.0</td>\n",
       "      <td>28.58</td>\n",
       "      <td>65.0</td>\n",
       "      <td>103.0</td>\n",
       "      <td>1</td>\n",
       "    </tr>\n",
       "    <tr>\n",
       "      <th>4</th>\n",
       "      <td>0</td>\n",
       "      <td>46</td>\n",
       "      <td>3.0</td>\n",
       "      <td>1</td>\n",
       "      <td>23.0</td>\n",
       "      <td>0.0</td>\n",
       "      <td>0</td>\n",
       "      <td>0</td>\n",
       "      <td>0</td>\n",
       "      <td>285.0</td>\n",
       "      <td>130.0</td>\n",
       "      <td>84.0</td>\n",
       "      <td>23.10</td>\n",
       "      <td>85.0</td>\n",
       "      <td>85.0</td>\n",
       "      <td>0</td>\n",
       "    </tr>\n",
       "  </tbody>\n",
       "</table>\n",
       "</div>"
      ],
      "text/plain": [
       "   male  age  education  currentSmoker  cigsPerDay  BPMeds  prevalentStroke  \\\n",
       "0     1   39        4.0              0         0.0     0.0                0   \n",
       "1     0   46        2.0              0         0.0     0.0                0   \n",
       "2     1   48        1.0              1        20.0     0.0                0   \n",
       "3     0   61        3.0              1        30.0     0.0                0   \n",
       "4     0   46        3.0              1        23.0     0.0                0   \n",
       "\n",
       "   prevalentHyp  diabetes  totChol  sysBP  diaBP    BMI  heartRate  glucose  \\\n",
       "0             0         0    195.0  106.0   70.0  26.97       80.0     77.0   \n",
       "1             0         0    250.0  121.0   81.0  28.73       95.0     76.0   \n",
       "2             0         0    245.0  127.5   80.0  25.34       75.0     70.0   \n",
       "3             1         0    225.0  150.0   95.0  28.58       65.0    103.0   \n",
       "4             0         0    285.0  130.0   84.0  23.10       85.0     85.0   \n",
       "\n",
       "   TenYearCHD  \n",
       "0           0  \n",
       "1           0  \n",
       "2           0  \n",
       "3           1  \n",
       "4           0  "
      ]
     },
     "execution_count": 2,
     "metadata": {},
     "output_type": "execute_result"
    }
   ],
   "source": [
    "#Cargar el data set\n",
    "import pandas as pd\n",
    "df = pd.read_csv(\"https://media.geeksforgeeks.org/wp-content/uploads/20240307152534/framingham.csv\")\n",
    "df.head()\n"
   ]
  },
  {
   "cell_type": "code",
   "execution_count": 3,
   "id": "d1e63e5c-4668-4253-95f8-a69334214f56",
   "metadata": {},
   "outputs": [
    {
     "data": {
      "text/plain": [
       "(3658, 16)"
      ]
     },
     "execution_count": 3,
     "metadata": {},
     "output_type": "execute_result"
    }
   ],
   "source": [
    "#Cuantos datos faltan?  Utilizamos isnull para checar cuales casillas están vacias (na) y .sum para ver la cantidad total\n",
    "df.isnull().sum()\n",
    "\n",
    "#Las eliminamos para simplificar\n",
    "df = df.dropna()\n",
    "df.shape"
   ]
  },
  {
   "cell_type": "code",
   "execution_count": 4,
   "id": "2455d5e9-2197-4974-af08-22ad3cb8194f",
   "metadata": {},
   "outputs": [
    {
     "data": {
      "text/plain": [
       "male                 int64\n",
       "age                  int64\n",
       "education          float64\n",
       "cigsPerDay         float64\n",
       "BPMeds             float64\n",
       "prevalentStroke      int64\n",
       "prevalentHyp         int64\n",
       "diabetes             int64\n",
       "totChol            float64\n",
       "sysBP              float64\n",
       "diaBP              float64\n",
       "BMI                float64\n",
       "heartRate          float64\n",
       "glucose            float64\n",
       "TenYearCHD           int64\n",
       "dtype: object"
      ]
     },
     "execution_count": 4,
     "metadata": {},
     "output_type": "execute_result"
    }
   ],
   "source": [
    "#currentSmoker es nuestra variable a predecir\n",
    "y = df['currentSmoker']\n",
    "\n",
    "#Todas las demas variables van a ayudar a predecir\n",
    "X = df.drop(['currentSmoker'], axis=1)\n",
    "\n",
    "X.dtypes"
   ]
  },
  {
   "cell_type": "markdown",
   "id": "1fe27ec7-7e06-458c-a3ba-2d19e287fbf7",
   "metadata": {},
   "source": [
    "# Escalación de datos\n"
   ]
  },
  {
   "cell_type": "code",
   "execution_count": 5,
   "id": "3d4452d0-6c19-47af-812c-25469a4badcd",
   "metadata": {},
   "outputs": [
    {
     "data": {
      "text/html": [
       "<div>\n",
       "<style scoped>\n",
       "    .dataframe tbody tr th:only-of-type {\n",
       "        vertical-align: middle;\n",
       "    }\n",
       "\n",
       "    .dataframe tbody tr th {\n",
       "        vertical-align: top;\n",
       "    }\n",
       "\n",
       "    .dataframe thead th {\n",
       "        text-align: right;\n",
       "    }\n",
       "</style>\n",
       "<table border=\"1\" class=\"dataframe\">\n",
       "  <thead>\n",
       "    <tr style=\"text-align: right;\">\n",
       "      <th></th>\n",
       "      <th>male</th>\n",
       "      <th>age</th>\n",
       "      <th>education</th>\n",
       "      <th>cigsPerDay</th>\n",
       "      <th>BPMeds</th>\n",
       "      <th>prevalentStroke</th>\n",
       "      <th>prevalentHyp</th>\n",
       "      <th>diabetes</th>\n",
       "      <th>totChol</th>\n",
       "      <th>sysBP</th>\n",
       "      <th>diaBP</th>\n",
       "      <th>BMI</th>\n",
       "      <th>heartRate</th>\n",
       "      <th>glucose</th>\n",
       "      <th>TenYearCHD</th>\n",
       "    </tr>\n",
       "  </thead>\n",
       "  <tbody>\n",
       "    <tr>\n",
       "      <th>0</th>\n",
       "      <td>1.119755</td>\n",
       "      <td>-1.232580</td>\n",
       "      <td>1.975209</td>\n",
       "      <td>-0.757169</td>\n",
       "      <td>-0.176901</td>\n",
       "      <td>-0.075987</td>\n",
       "      <td>-0.672860</td>\n",
       "      <td>-0.166784</td>\n",
       "      <td>-0.949108</td>\n",
       "      <td>-1.194111</td>\n",
       "      <td>-1.078881</td>\n",
       "      <td>0.292050</td>\n",
       "      <td>0.356370</td>\n",
       "      <td>-0.203044</td>\n",
       "      <td>-0.423815</td>\n",
       "    </tr>\n",
       "    <tr>\n",
       "      <th>1</th>\n",
       "      <td>-0.893053</td>\n",
       "      <td>-0.414905</td>\n",
       "      <td>0.019249</td>\n",
       "      <td>-0.757169</td>\n",
       "      <td>-0.176901</td>\n",
       "      <td>-0.075987</td>\n",
       "      <td>-0.672860</td>\n",
       "      <td>-0.166784</td>\n",
       "      <td>0.298294</td>\n",
       "      <td>-0.514881</td>\n",
       "      <td>-0.160118</td>\n",
       "      <td>0.725010</td>\n",
       "      <td>1.608469</td>\n",
       "      <td>-0.244883</td>\n",
       "      <td>-0.423815</td>\n",
       "    </tr>\n",
       "    <tr>\n",
       "      <th>2</th>\n",
       "      <td>1.119755</td>\n",
       "      <td>-0.181283</td>\n",
       "      <td>-0.958730</td>\n",
       "      <td>0.920689</td>\n",
       "      <td>-0.176901</td>\n",
       "      <td>-0.075987</td>\n",
       "      <td>-0.672860</td>\n",
       "      <td>-0.166784</td>\n",
       "      <td>0.184894</td>\n",
       "      <td>-0.220548</td>\n",
       "      <td>-0.243642</td>\n",
       "      <td>-0.108929</td>\n",
       "      <td>-0.060996</td>\n",
       "      <td>-0.495920</td>\n",
       "      <td>-0.423815</td>\n",
       "    </tr>\n",
       "    <tr>\n",
       "      <th>3</th>\n",
       "      <td>-0.893053</td>\n",
       "      <td>1.337256</td>\n",
       "      <td>0.997229</td>\n",
       "      <td>1.759618</td>\n",
       "      <td>-0.176901</td>\n",
       "      <td>-0.075987</td>\n",
       "      <td>1.486194</td>\n",
       "      <td>-0.166784</td>\n",
       "      <td>-0.268707</td>\n",
       "      <td>0.798296</td>\n",
       "      <td>1.009217</td>\n",
       "      <td>0.688110</td>\n",
       "      <td>-0.895729</td>\n",
       "      <td>0.884782</td>\n",
       "      <td>2.359518</td>\n",
       "    </tr>\n",
       "    <tr>\n",
       "      <th>4</th>\n",
       "      <td>-0.893053</td>\n",
       "      <td>-0.414905</td>\n",
       "      <td>0.997229</td>\n",
       "      <td>1.172368</td>\n",
       "      <td>-0.176901</td>\n",
       "      <td>-0.075987</td>\n",
       "      <td>-0.672860</td>\n",
       "      <td>-0.166784</td>\n",
       "      <td>1.092095</td>\n",
       "      <td>-0.107344</td>\n",
       "      <td>0.090454</td>\n",
       "      <td>-0.659969</td>\n",
       "      <td>0.773736</td>\n",
       "      <td>0.131672</td>\n",
       "      <td>-0.423815</td>\n",
       "    </tr>\n",
       "  </tbody>\n",
       "</table>\n",
       "</div>"
      ],
      "text/plain": [
       "       male       age  education  cigsPerDay    BPMeds  prevalentStroke  \\\n",
       "0  1.119755 -1.232580   1.975209   -0.757169 -0.176901        -0.075987   \n",
       "1 -0.893053 -0.414905   0.019249   -0.757169 -0.176901        -0.075987   \n",
       "2  1.119755 -0.181283  -0.958730    0.920689 -0.176901        -0.075987   \n",
       "3 -0.893053  1.337256   0.997229    1.759618 -0.176901        -0.075987   \n",
       "4 -0.893053 -0.414905   0.997229    1.172368 -0.176901        -0.075987   \n",
       "\n",
       "   prevalentHyp  diabetes   totChol     sysBP     diaBP       BMI  heartRate  \\\n",
       "0     -0.672860 -0.166784 -0.949108 -1.194111 -1.078881  0.292050   0.356370   \n",
       "1     -0.672860 -0.166784  0.298294 -0.514881 -0.160118  0.725010   1.608469   \n",
       "2     -0.672860 -0.166784  0.184894 -0.220548 -0.243642 -0.108929  -0.060996   \n",
       "3      1.486194 -0.166784 -0.268707  0.798296  1.009217  0.688110  -0.895729   \n",
       "4     -0.672860 -0.166784  1.092095 -0.107344  0.090454 -0.659969   0.773736   \n",
       "\n",
       "    glucose  TenYearCHD  \n",
       "0 -0.203044   -0.423815  \n",
       "1 -0.244883   -0.423815  \n",
       "2 -0.495920   -0.423815  \n",
       "3  0.884782    2.359518  \n",
       "4  0.131672   -0.423815  "
      ]
     },
     "execution_count": 5,
     "metadata": {},
     "output_type": "execute_result"
    }
   ],
   "source": [
    "#Vamos a tener que escalar algunos datos, esto signfica normalizar los resultados para que variables\n",
    "#con valores grandes no dominen al modelo de regresión logistica.\n",
    "#Por ejemplo, no podemos tomar en cuenta colesterol con el peso (en la formula) que tiene ahorita (rango de 100 y 300)\n",
    "#Y meterlo a una ecucación donde esté la edad (30-80) y BMI (15-45)\n",
    "#StandardScaler les pone una media de 0 y desviacion estandar de 1 \n",
    "\n",
    "from sklearn.preprocessing import StandardScaler\n",
    "\n",
    "scaler = StandardScaler()\n",
    "X_scaled = scaler.fit_transform(X)\n",
    "\n",
    "pd.DataFrame(X_scaled, columns=X.columns).head()\n"
   ]
  },
  {
   "cell_type": "markdown",
   "id": "bfecea64-00c7-49d1-96a4-0b66b26b4277",
   "metadata": {},
   "source": [
    "# Dividir en entrenamiento y prueba"
   ]
  },
  {
   "cell_type": "code",
   "execution_count": 6,
   "id": "80ebf1b9-83d7-4a08-8120-c90ff4837801",
   "metadata": {},
   "outputs": [],
   "source": [
    "#Utilizamos train para entrenar el modelo y evaluamos con test"
   ]
  },
  {
   "cell_type": "code",
   "execution_count": 7,
   "id": "410df3c4-4524-408a-913c-04234b496797",
   "metadata": {},
   "outputs": [
    {
     "name": "stdout",
     "output_type": "stream",
     "text": [
      "Entrenamiento: (2926, 15)\n",
      "Prueba: (732, 15)\n"
     ]
    }
   ],
   "source": [
    "from sklearn.model_selection import train_test_split\n",
    "\n",
    "# 80% entrenamiento, 20% prueba\n",
    "X_train, X_test, y_train, y_test = train_test_split(\n",
    "    X_scaled, y, test_size=0.2, random_state=42\n",
    ")\n",
    "\n",
    "# Verificamos las dimensiones de cada conjunto\n",
    "print(\"Entrenamiento:\", X_train.shape)\n",
    "print(\"Prueba:\", X_test.shape)"
   ]
  },
  {
   "cell_type": "markdown",
   "id": "68df18c5-703c-487e-acf2-5e314c048614",
   "metadata": {},
   "source": [
    "# Entrenamiento del modelo"
   ]
  },
  {
   "cell_type": "code",
   "execution_count": 8,
   "id": "c68e7c48-f771-4712-92d7-eba7de25d2d9",
   "metadata": {},
   "outputs": [],
   "source": [
    "#Para la predicción utilizaremos regresión logistica, calcula la probabilidad de que una muestra pertenzca a una clase"
   ]
  },
  {
   "cell_type": "code",
   "execution_count": 9,
   "id": "d0d3ad55-74ef-4a0f-a40c-57ba19fdbda2",
   "metadata": {},
   "outputs": [
    {
     "name": "stdout",
     "output_type": "stream",
     "text": [
      "Modelo entrenado correctamente.\n"
     ]
    }
   ],
   "source": [
    "from sklearn.linear_model import LogisticRegression\n",
    "\n",
    "# Creacion y entrenamiento del modelo\n",
    "model = LogisticRegression()\n",
    "model.fit(X_train, y_train)\n",
    "\n",
    "# Verificamos que se haya entrenado correctamente\n",
    "print(\"Modelo entrenado correctamente.\")"
   ]
  },
  {
   "cell_type": "markdown",
   "id": "da26a8f3-5eb2-4f7c-b205-d9ccbb75fd8a",
   "metadata": {},
   "source": [
    "# Evaluar el modelo"
   ]
  },
  {
   "cell_type": "code",
   "execution_count": 10,
   "id": "e5a399e9-cf85-4e20-8b73-a1b89bc55912",
   "metadata": {},
   "outputs": [
    {
     "name": "stdout",
     "output_type": "stream",
     "text": [
      "              precision    recall  f1-score   support\n",
      "\n",
      "           0       0.95      1.00      0.97       383\n",
      "           1       1.00      0.94      0.97       349\n",
      "\n",
      "    accuracy                           0.97       732\n",
      "   macro avg       0.97      0.97      0.97       732\n",
      "weighted avg       0.97      0.97      0.97       732\n",
      "\n"
     ]
    }
   ],
   "source": [
    "# Podemos utilizar la precisión para checar cuantos predijo bien\n",
    "from sklearn.metrics import classification_report\n",
    "\n",
    "# Predicciones con el conjunto de prueba\n",
    "y_pred = model.predict(X_test)\n",
    "\n",
    "# Resultados de la evaluación\n",
    "print(classification_report(y_test, y_pred))"
   ]
  },
  {
   "cell_type": "markdown",
   "id": "e7f52a5f-ffe5-45a2-8ecf-a2a91936014e",
   "metadata": {},
   "source": [
    "# Vamos a visualizar datooos! :D "
   ]
  },
  {
   "cell_type": "code",
   "execution_count": null,
   "id": "44805fe0-4b6f-4dbf-a19a-f3490bcb3894",
   "metadata": {},
   "outputs": [],
   "source": [
    "#Es mas facil presentar datos y correlaciones así, fuman mas los jovenes? \n",
    "#A partir de que edad se empieza a dejar de fumar?"
   ]
  },
  {
   "cell_type": "code",
   "execution_count": 11,
   "id": "8840ba12-6486-4c4a-ac6c-05cbec22f8a5",
   "metadata": {},
   "outputs": [
    {
     "name": "stderr",
     "output_type": "stream",
     "text": [
      "C:\\Users\\ricar\\AppData\\Local\\Temp\\ipykernel_9128\\4116228698.py:13: UserWarning: No artists with labels found to put in legend.  Note that artists whose label start with an underscore are ignored when legend() is called with no argument.\n",
      "  plt.legend(title='¿Fuma actualmente?')\n"
     ]
    },
    {
     "data": {
      "image/png": "[encoded data removed]",
      "text/plain": [
       "<Figure size 1000x600 with 1 Axes>"
      ]
     },
     "metadata": {},
     "output_type": "display_data"
    }
   ],
   "source": [
    "import matplotlib.pyplot as plt\n",
    "import seaborn as sns\n",
    "\n",
    "# Creamos una nueva columna legible\n",
    "df['smoker_str'] = df['currentSmoker'].map({0: 'No fuma', 1: 'Fuma'})\n",
    "\n",
    "plt.figure(figsize=(10,6))\n",
    "sns.histplot(data=df, x='age', hue='smoker_str', bins=30, multiple='stack')\n",
    "\n",
    "plt.title('Distribución de fumadores por edad')\n",
    "plt.xlabel('Edad')\n",
    "plt.ylabel('Cantidad de pacientes')\n",
    "plt.legend(title='¿Fuma actualmente?')\n",
    "plt.show()\n"
   ]
  },
  {
   "attachments": {},
   "cell_type": "markdown",
   "id": "16ed7289-53ba-47e5-bd50-292c24186f7f",
   "metadata": {},
   "source": [
    "Donde X es la edad, Y es cantidad de pacientes\n",
    "- Azul = no fumna\n",
    "- Naranja = si fuma\n",
    "\n",
    "Podemos ver entonces que:\n",
    "* entre 40 y 45 años son los que mas están registrados.\n",
    "* A partir de los 60, baja la frecuencia de fumadores bastante.\n",
    "* La población total (numero de pacientes) reduce de forma general a partir de los 65 años qepd\n"
   ]
  },
  {
   "cell_type": "markdown",
   "id": "88c7a104-de25-4974-93af-576100e00056",
   "metadata": {},
   "source": [
    "# Creacion de la API "
   ]
  },
  {
   "cell_type": "markdown",
   "id": "7acf512a-c4bf-454c-aceb-b9c119fb6599",
   "metadata": {},
   "source": [
    "La API va a recibir una solictiud HTTP con datos en formato json, se escalarán igual, y utilizamos regresión para predicir su fuma\n",
    "Devuelve un json con \"es_fumador = si/no\" y \"probabilidad_fuma = valor entre 0 y 1\""
   ]
  },
  {
   "cell_type": "code",
   "execution_count": 12,
   "id": "5d83e4c6-0019-46e1-9763-fc2dbe7fb750",
   "metadata": {},
   "outputs": [
    {
     "name": "stderr",
     "output_type": "stream",
     "text": [
      "WARNING: This is a development server. Do not use it in a production deployment. Use a production WSGI server instead.\n",
      " * Running on http://localhost:5000\n",
      "Press CTRL+C to quit\n"
     ]
    }
   ],
   "source": [
    "from flask import Flask, request, jsonify\n",
    "import numpy as np\n",
    "from werkzeug.serving import run_simple\n",
    "import threading\n",
    "\n",
    "# API \n",
    "app = Flask(__name__)\n",
    "\n",
    "@app.route('/predict', methods=['POST'])\n",
    "def predict():\n",
    "    try:\n",
    "        data = request.get_json()\n",
    "        features = np.array([data[col] for col in X.columns]).reshape(1, -1)\n",
    "        features_scaled = scaler.transform(features)\n",
    "        prediction = int(model.predict(features_scaled)[0])\n",
    "        prob = model.predict_proba(features_scaled)[0]\n",
    "        return jsonify({\n",
    "            'es_fumador': 'Sí' if prediction == 1 else 'No',\n",
    "            'probabilidad_no_fuma': round(prob[0], 3),\n",
    "            'probabilidad_fuma': round(prob[1], 3)\n",
    "        })\n",
    "    except Exception as e:\n",
    "        return jsonify({'error': str(e)})\n",
    "\n",
    "# Ejecutar la API en un hilo separado\n",
    "def run_api():\n",
    "    run_simple(\"localhost\", 5000, app)\n",
    "\n",
    "thread = threading.Thread(target=run_api)\n",
    "thread.start()\n"
   ]
  },
  {
   "cell_type": "markdown",
   "id": "707cf91c-796a-40a7-a8b6-422341edeec0",
   "metadata": {},
   "source": [
    "# Utilización de la API"
   ]
  },
  {
   "cell_type": "code",
   "execution_count": 13,
   "id": "3182b041-56ea-41fc-9818-5dbee898df38",
   "metadata": {},
   "outputs": [
    {
     "name": "stderr",
     "output_type": "stream",
     "text": [
      "C:\\Users\\ricar\\anaconda3\\Lib\\site-packages\\sklearn\\base.py:493: UserWarning: X does not have valid feature names, but StandardScaler was fitted with feature names\n",
      "  warnings.warn(\n",
      "127.0.0.1 - - [13/Apr/2025 13:03:21] \"POST /predict HTTP/1.1\" 200 -\n"
     ]
    },
    {
     "name": "stdout",
     "output_type": "stream",
     "text": [
      "{'es_fumador': 'Sí', 'probabilidad_fuma': 1.0, 'probabilidad_no_fuma': 0.0}\n"
     ]
    }
   ],
   "source": [
    "import requests\n",
    "#Estos son los datos que ingresa el dr, del paciente\n",
    "entrada = {\n",
    "    'male': 1,\n",
    "    'age': 45,\n",
    "    'education': 2,\n",
    "    'cigsPerDay': 10,\n",
    "    'BPMeds': 0,\n",
    "    'prevalentStroke': 0,\n",
    "    'prevalentHyp': 1,\n",
    "    'diabetes': 0,\n",
    "    'totChol': 220,\n",
    "    'sysBP': 135,\n",
    "    'diaBP': 85,\n",
    "    'BMI': 26.5,\n",
    "    'heartRate': 78,\n",
    "    'glucose': 90,\n",
    "    'TenYearCHD': 0\n",
    "}\n",
    "\n",
    "res = requests.post(\"http://localhost:5000/predict\", json=entrada)\n",
    "print(res.json())\n"
   ]
  },
  {
   "cell_type": "code",
   "execution_count": null,
   "id": "8aff3cc3-c9d8-46d1-b7b8-0551b6e0ae95",
   "metadata": {},
   "outputs": [],
   "source": [
    "Y asi predecimos a los fumadores! Gracias por leer :D"
   ]
  },
  {
   "cell_type": "code",
   "execution_count": null,
   "id": "bc70b420-1930-4673-9c52-d94466430161",
   "metadata": {},
   "outputs": [],
   "source": []
  }
 ],
 "metadata": {
  "kernelspec": {
   "display_name": "Python 3 (ipykernel)",
   "language": "python",
   "name": "python3"
  },
  "language_info": {
   "codemirror_mode": {
    "name": "ipython",
    "version": 3
   },
   "file_extension": ".py",
   "mimetype": "text/x-python",
   "name": "python",
   "nbconvert_exporter": "python",
   "pygments_lexer": "ipython3",
   "version": "3.12.7"
  }
 },
 "nbformat": 4,
 "nbformat_minor": 5
}
